{
 "cells": [
  {
   "cell_type": "code",
   "execution_count": null,
   "metadata": {},
   "outputs": [],
   "source": [
    "word = list(\"barbie\")\n",
    "spaces = []\n",
    "for character in word:\n",
    "    spaces.append(\"_\")\n",
    "\n",
    "attempts = 0\n",
    "max_attempts = 8 \n",
    "\n",
    "GameOv = False\n",
    "while not GameOv:\n",
    "    \n",
    "    \n",
    "    print(f\"You have {max_attempts-attempts} attempts remaining\")\n",
    "    \n",
    "    hiddenString = \"  \".join(spaces)\n",
    "    print(f\"The current word is: {' '.join(spaces)}\")\n",
    "    \n",
    "\n",
    "    print('     ------')\n",
    "    print('     |    |')\n",
    "    print('     |    ' + ('O'if attempts > 0 else ''))\n",
    "    print('     |    ' + ('/\\\\'if attempts > 1 else ''))\n",
    "    print('     |    ' + ('|'if attempts > 2 else ''))\n",
    "    print('     |    ' + ('/\\\\'if attempts > 3 else ''))\n",
    "    print('___________')\n",
    "\n",
    "    letter_guess = input(\"Please guess a letter: \")\n",
    "\n",
    "    print('\\n\\n\\n\\n')\n",
    "\n",
    "\n",
    "\n",
    "    if letter_guess in word:\n",
    "        \n",
    "        print(f\"You guessed correctly! {letter_guess} is in the word\")\n",
    "        for i in range( len(word)):\n",
    "            character = word[i]\n",
    "            if character == letter_guess:\n",
    "                spaces[i] = word[i]\n",
    "                word[i]= \"_\"\n",
    "    else: \n",
    "        \n",
    "        print(f'You guessed wrong! {letter_guess} is not the word')\n",
    "        attempts += 1\n",
    "        \n",
    "    \n",
    "    if all(\"_\" == character for character in word):\n",
    "      print(\"¡Congrats, you won!\")\n",
    "      GameOv = True\n",
    "        \n",
    "    if attempts >= max_attempts:\n",
    "      print(\"¡You lost, rest in peace!\")\n",
    "      GameOv = True"
   ]
  }
 ],
 "metadata": {
  "kernelspec": {
   "display_name": "Python 3",
   "language": "python",
   "name": "python3"
  },
  "language_info": {
   "codemirror_mode": {
    "name": "ipython",
    "version": 3
   },
   "file_extension": ".py",
   "mimetype": "text/x-python",
   "name": "python",
   "nbconvert_exporter": "python",
   "pygments_lexer": "ipython3",
   "version": "3.8.3"
  }
 },
 "nbformat": 4,
 "nbformat_minor": 4
}
